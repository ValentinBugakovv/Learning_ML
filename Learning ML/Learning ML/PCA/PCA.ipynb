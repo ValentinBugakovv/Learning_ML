{
 "cells": [
  {
   "cell_type": "markdown",
   "metadata": {},
   "source": [
    "# Введение"
   ]
  },
  {
   "cell_type": "markdown",
   "metadata": {},
   "source": [
    "<p>Метод главных компонент (principal component analysis, PCA) — это один из методов обучения без учителя, который позволяет сформировать новые признаки, являющиеся линейными комбинациями старых.<br> При этом новые признаки строятся так, чтобы сохранить как можно больше дисперсии в данных.<br> Иными словами, метод главных компонент понижает размерность данных оптимальным с точки зрения сохранения дисперсии способом.</p>\n",
    "<p>Основным параметром метода главных компонент является количество новых признаков.<br> Как и в большинстве методов машинного обучения, нет четких рекомендаций по поводу выбора значения этого параметров.<br> Один из подходов — выбирать минимальное число компонент, при котором объясняется не менее определенной доли дисперсии (это означает, что в выборке сохраняется данная доля от исходной дисперсии).</p>"
   ]
  },
  {
   "cell_type": "markdown",
   "metadata": {},
   "source": [
    "# Данные "
   ]
  },
  {
   "cell_type": "markdown",
   "metadata": {},
   "source": [
    "<p>В этом задании мы будем работать с данными о стоимостях акций 30 крупнейших компаний США.<br> На основе этих данных можно оценить состояние экономики, например, с помощью индекса Доу-Джонса.<br> Со временем состав компаний, по которым строится индекс, меняется.<br> Для набора данных был взят период с 23.09.2013 по 18.03.2015, в котором набор компаний был фиксирован (подробнее почитать о составе можно по ссылке из материалов).</p>"
   ]
  },
  {
   "cell_type": "markdown",
   "metadata": {},
   "source": [
    "## Реализация в sklearn\n"
   ]
  },
  {
   "cell_type": "markdown",
   "metadata": {},
   "source": [
    "<p>Метод главных компонент реализован в пакете *scikit-learn* в модуле *decomposition* в классе PCA.<br> Основным параметром является количество компонент **(n_components)**.<br> Для обученного преобразования этот класс позволяет вычислять различные характеристики.<br>Например, поле **explained_variance_ratio_** содержит процент дисперсии, который объясняет каждая компонента.<br> Поле **components_** содержит информацию о том, какой вклад вносят признаки в компоненты.<br> Чтобы применить обученное преобразование к данным, можно воспользоваться методом *transform.*</p>"
   ]
  },
  {
   "cell_type": "code",
   "execution_count": 1,
   "metadata": {},
   "outputs": [],
   "source": [
    "import pandas as pd\n",
    "from sklearn.decomposition import PCA\n",
    "from numpy import corrcoef"
   ]
  },
  {
   "cell_type": "markdown",
   "metadata": {},
   "source": [
    "Загрузите данные close_prices.csv. В этом файле приведены цены акций 30 компаний на закрытии торгов за каждый\n",
    "день периода."
   ]
  },
  {
   "cell_type": "code",
   "execution_count": 2,
   "metadata": {},
   "outputs": [],
   "source": [
    "df = pd.read_csv('close_prices.csv')\n",
    "X = df.loc[:, 'AXP':]"
   ]
  },
  {
   "cell_type": "markdown",
   "metadata": {},
   "source": [
    "На загруженных данных обучите преобразование PCA с числом компоненты равным 10.<br> Скольких компонент хватит,\n",
    "чтобы объяснить 90% дисперсии?"
   ]
  },
  {
   "cell_type": "code",
   "execution_count": 3,
   "metadata": {},
   "outputs": [
    {
     "name": "stdout",
     "output_type": "stream",
     "text": [
      "4\n"
     ]
    }
   ],
   "source": [
    "pca = PCA(n_components=10)\n",
    "pca.fit(X.values)\n",
    "\n",
    "var = 0\n",
    "n_var = 0\n",
    "for v in pca.explained_variance_ratio_:\n",
    "    n_var += 1\n",
    "    var += v\n",
    "    if var >= 0.9:\n",
    "        break\n",
    "\n",
    "print(n_var)"
   ]
  },
  {
   "cell_type": "markdown",
   "metadata": {},
   "source": [
    " Примените построенное преобразование к исходным данным и возьмите значения первой компоненты."
   ]
  },
  {
   "cell_type": "code",
   "execution_count": 5,
   "metadata": {},
   "outputs": [],
   "source": [
    "df_comp = pd.DataFrame(pca.transform(X))\n",
    "comp0 = df_comp[0]"
   ]
  },
  {
   "cell_type": "markdown",
   "metadata": {},
   "source": [
    "Загрузите информацию об индексе Доу-Джонса из файла djia_index.csv.<br> Чему равна корреляция Пирсона между первой\n",
    "компонентой и индексом Доу-Джонса?"
   ]
  },
  {
   "cell_type": "code",
   "execution_count": 7,
   "metadata": {},
   "outputs": [
    {
     "name": "stdout",
     "output_type": "stream",
     "text": [
      "0.9096522193050239\n"
     ]
    }
   ],
   "source": [
    "df2 = pd.read_csv('djia_index.csv')\n",
    "dji = df2['^DJI']\n",
    "corr = corrcoef(comp0, dji)\n",
    "print(corr[1, 0])"
   ]
  },
  {
   "cell_type": "markdown",
   "metadata": {},
   "source": [
    " Какая компания имеет наибольший вес в первой компоненте? Укажите ее название с большой буквы."
   ]
  },
  {
   "cell_type": "code",
   "execution_count": 9,
   "metadata": {},
   "outputs": [
    {
     "name": "stdout",
     "output_type": "stream",
     "text": [
      "V\n"
     ]
    }
   ],
   "source": [
    "comp0_w = pd.Series(pca.components_[0])\n",
    "comp0_w_top = comp0_w.sort_values(ascending=False).head(1).index[0]\n",
    "company = X.columns[comp0_w_top]\n",
    "print(company)"
   ]
  }
 ],
 "metadata": {
  "kernelspec": {
   "display_name": "Python 3",
   "language": "python",
   "name": "python3"
  },
  "language_info": {
   "codemirror_mode": {
    "name": "ipython",
    "version": 3
   },
   "file_extension": ".py",
   "mimetype": "text/x-python",
   "name": "python",
   "nbconvert_exporter": "python",
   "pygments_lexer": "ipython3",
   "version": "3.6.4"
  }
 },
 "nbformat": 4,
 "nbformat_minor": 2
}
