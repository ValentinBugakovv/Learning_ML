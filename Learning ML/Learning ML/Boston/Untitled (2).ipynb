{
 "cells": [
  {
   "cell_type": "code",
   "execution_count": 1,
   "metadata": {},
   "outputs": [
    {
     "name": "stderr",
     "output_type": "stream",
     "text": [
      "C:\\ProgramData\\Anaconda3\\lib\\site-packages\\sklearn\\cross_validation.py:41: DeprecationWarning: This module was deprecated in version 0.18 in favor of the model_selection module into which all the refactored classes and functions are moved. Also note that the interface of the new CV iterators are different from that of this module. This module will be removed in 0.20.\n",
      "  \"This module will be removed in 0.20.\", DeprecationWarning)\n"
     ]
    }
   ],
   "source": [
    "import numpy as np\n",
    "import pandas as pd\n",
    "import matplotlib.pyplot as plt\n",
    "from sklearn.datasets import load_boston\n",
    "from sklearn.neighbors import KNeighborsRegressor\n",
    "from sklearn.preprocessing import scale\n",
    "from sklearn.cross_validation import cross_val_score\n",
    "from sklearn.cross_validation import KFold"
   ]
  },
  {
   "cell_type": "markdown",
   "metadata": {},
   "source": [
    "# Задача: подобрать конкретную метрику Минковского для задачи"
   ]
  },
  {
   "cell_type": "markdown",
   "metadata": {},
   "source": [
    "## Инструкция по выполнению\n",
    "\n",
    "Мы будем использовать в данном задании набор данных Boston, где нужно предсказать стоимость жилья на основе различных характеристик расположения (загрязненность воздуха, близость к дорогам и т.д.). Подробнее о признаках можно почитать по адресу https://archive.ics.uci.edu/ml/machine-learning-databases/housing/\n",
    "\n",
    "1) Загрузите выборку Boston с помощью функции **sklearn.datasets.load_boston()**. Результатом вызова данной функции является объект, у которого признаки записаны в поле data, а целевой вектор — в поле target.\n",
    "\n",
    "2) Приведите признаки в выборке к одному масштабу при помощи функции **sklearn.preprocessing.scale**.\n",
    "\n",
    "3) Переберите разные варианты параметра метрики p по сетке от 1 до 10 с таким шагом, чтобы всего было протестировано 200 вариантов (используйте функцию **numpy.linspace**). Используйте **KNeighborsRegressor с n_neighbors=5 и weights='distance'** — данный параметр добавляет в алгоритм веса, зависящие от расстояния до ближайших соседей. В качестве метрики качества используйте среднеквадратичную ошибку (параметр **scoring='mean_squared_error' у cross_val_score**; при использовании библиотеки scikit-learn версии 0.18.1 и выше необходимо указывать **scoring='neg_mean_squared_error**'). Качество оценивайте, как и в предыдущем задании, с помощью кросс-валидации по 5 блокам с random_state = 42, не забудьте включить перемешивание выборки (shuffle=True).\n",
    "\n",
    "4) Определите, при каком p качество на кросс-валидации оказалось оптимальным. Обратите внимание, что **cross_val_score** возвращает массив показателей качества по блокам; необходимо максимизировать среднее этих показателей. Это значение параметра и будет ответом на задачу."
   ]
  },
  {
   "cell_type": "code",
   "execution_count": 22,
   "metadata": {},
   "outputs": [],
   "source": [
    "data = load_boston()\n",
    "X = data.data\n",
    "y = data.target"
   ]
  },
  {
   "cell_type": "code",
   "execution_count": 21,
   "metadata": {},
   "outputs": [],
   "source": [
    "X = scale(X)"
   ]
  },
  {
   "cell_type": "code",
   "execution_count": 31,
   "metadata": {},
   "outputs": [],
   "source": [
    "def test_accuracy(kf, X, y):\n",
    "    scores = list()\n",
    "    p_range = np.linspace(1, 10, 200)\n",
    "    for p in p_range:\n",
    "        model = KNeighborsRegressor(p=p, n_neighbors=5, weights=\"distance\")\n",
    "        scores.append(cross_val_score(model, X, y, cv=kf, scoring=\"neg_mean_squared_error\"))\n",
    "\n",
    "    return pd.DataFrame(scores, p_range).max(axis=1).sort_values(ascending=False)"
   ]
  },
  {
   "cell_type": "code",
   "execution_count": 32,
   "metadata": {},
   "outputs": [],
   "source": [
    "kf = KFold(len(y), n_folds=5, shuffle=True, random_state=42)\n",
    "accuracy = test_accuracy(kf, X, y)"
   ]
  },
  {
   "cell_type": "code",
   "execution_count": 35,
   "metadata": {},
   "outputs": [
    {
     "data": {
      "text/plain": [
       "1.000000   -21.056657\n",
       "1.045226   -21.501928\n",
       "1.090452   -21.525696\n",
       "1.135678   -22.592765\n",
       "1.226131   -22.675331\n",
       "dtype: float64"
      ]
     },
     "execution_count": 35,
     "metadata": {},
     "output_type": "execute_result"
    }
   ],
   "source": [
    "accuracy.head(5)"
   ]
  },
  {
   "cell_type": "markdown",
   "metadata": {},
   "source": [
    "### Впрос:  \n",
    "\n",
    "    1) Cross-validation \n",
    "    \n",
    "    2) приведение признаков к одному маштабу\n",
    "    "
   ]
  }
 ],
 "metadata": {
  "kernelspec": {
   "display_name": "Python 3",
   "language": "python",
   "name": "python3"
  },
  "language_info": {
   "codemirror_mode": {
    "name": "ipython",
    "version": 3
   },
   "file_extension": ".py",
   "mimetype": "text/x-python",
   "name": "python",
   "nbconvert_exporter": "python",
   "pygments_lexer": "ipython3",
   "version": "3.6.4"
  }
 },
 "nbformat": 4,
 "nbformat_minor": 2
}
