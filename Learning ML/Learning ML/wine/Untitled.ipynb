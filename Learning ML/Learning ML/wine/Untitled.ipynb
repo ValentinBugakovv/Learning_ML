{
 "cells": [
  {
   "cell_type": "code",
   "execution_count": 1,
   "metadata": {},
   "outputs": [
    {
     "name": "stderr",
     "output_type": "stream",
     "text": [
      "C:\\ProgramData\\Anaconda3\\lib\\site-packages\\sklearn\\cross_validation.py:41: DeprecationWarning: This module was deprecated in version 0.18 in favor of the model_selection module into which all the refactored classes and functions are moved. Also note that the interface of the new CV iterators are different from that of this module. This module will be removed in 0.20.\n",
      "  \"This module will be removed in 0.20.\", DeprecationWarning)\n"
     ]
    }
   ],
   "source": [
    "import numpy as np\n",
    "import pandas as pd\n",
    "import matplotlib.pyplot as plt\n",
    "import re\n",
    "from sklearn.neighbors import KNeighborsClassifier\n",
    "from sklearn.cross_validation import KFold, cross_val_score"
   ]
  },
  {
   "cell_type": "markdown",
   "metadata": {},
   "source": [
    "Нужно провести кросс-воледацию данных "
   ]
  },
  {
   "cell_type": "code",
   "execution_count": 8,
   "metadata": {},
   "outputs": [],
   "source": [
    "data = pd.read_csv('wine.data', header=None)\n",
    "X = pd.read_csv('wine.data', header=None, usecols=list(range(1,14)))\n",
    "y = pd.read_csv('wine.data', header=None, usecols=[0]).values.reshape(len(X),)"
   ]
  },
  {
   "cell_type": "code",
   "execution_count": 13,
   "metadata": {},
   "outputs": [
    {
     "name": "stdout",
     "output_type": "stream",
     "text": [
      "sklearn.cross_validation.KFold(n=178, n_folds=5, shuffle=True, random_state=42)\n"
     ]
    }
   ],
   "source": [
    "kf = KFold(len(y), n_folds=5, shuffle=True, random_state=42)"
   ]
  },
  {
   "cell_type": "code",
   "execution_count": 18,
   "metadata": {},
   "outputs": [],
   "source": [
    "def test_accuracy(kf, X, y):\n",
    "    scores = list()\n",
    "    k_range = range(1, 51)\n",
    "    for k in k_range:\n",
    "        model = KNeighborsClassifier(n_neighbors=k)\n",
    "        scores.append(cross_val_score(model, X, y, cv=kf, scoring='accuracy'))\n",
    "\n",
    "    return pd.DataFrame(scores, k_range).mean(axis=1).sort_values(ascending=False)"
   ]
  },
  {
   "cell_type": "code",
   "execution_count": 21,
   "metadata": {},
   "outputs": [
    {
     "name": "stdout",
     "output_type": "stream",
     "text": [
      "1 1\n",
      "2 0.7304761904761905\n"
     ]
    }
   ],
   "source": [
    "accuracy = test_accuracy(kf, X, y)\n",
    "top_accuracy = accuracy.head(1)\n",
    "print(1, top_accuracy.index[0])\n",
    "print(2, top_accuracy.values[0])"
   ]
  },
  {
   "cell_type": "code",
   "execution_count": 24,
   "metadata": {},
   "outputs": [],
   "source": [
    "X = sklearn.preprocessing.scale(X)\n",
    "accuracy = test_accuracy(kf, X, y)"
   ]
  },
  {
   "cell_type": "code",
   "execution_count": 25,
   "metadata": {},
   "outputs": [
    {
     "name": "stdout",
     "output_type": "stream",
     "text": [
      "3 29\n",
      "4 0.9776190476190475\n"
     ]
    }
   ],
   "source": [
    "top_accuracy = accuracy.head(1)\n",
    "print(3, top_accuracy.index[0])\n",
    "print(4, top_accuracy.values[0])"
   ]
  }
 ],
 "metadata": {
  "kernelspec": {
   "display_name": "Python 3",
   "language": "python",
   "name": "python3"
  },
  "language_info": {
   "codemirror_mode": {
    "name": "ipython",
    "version": 3
   },
   "file_extension": ".py",
   "mimetype": "text/x-python",
   "name": "python",
   "nbconvert_exporter": "python",
   "pygments_lexer": "ipython3",
   "version": "3.6.4"
  }
 },
 "nbformat": 4,
 "nbformat_minor": 2
}
